{
 "cells": [
  {
   "cell_type": "code",
   "execution_count": null,
   "metadata": {
    "collapsed": true
   },
   "outputs": [],
   "source": [
    "import json, os\n",
    "import boto\n",
    "import findspark\n",
    "# Add the streaming package and initialize\n",
    "findspark.add_packages([\"org.apache.spark:spark-streaming-kafka-0-8_2.11:2.2.0\"])\n",
    "findspark.init()\n",
    "import pyspark\n",
    "from pyspark import SparkConf, SparkContext\n",
    "from pyspark.streaming import StreamingContext\n",
    "from pyspark.streaming.kafka import KafkaUtils\n",
    "import pymongo_spark\n",
    "pymongo_spark.activate()\n",
    "from pymongo import MongoClient\n",
    "from configparser import ConfigParser\n",
    "from boto.s3.connection import S3Connection\n",
    "from boto.s3.key import Key\n",
    "from mypredictor import myStreamPredictor"
   ]
  },
  {
   "cell_type": "code",
   "execution_count": null,
   "metadata": {},
   "outputs": [],
   "source": [
    "def predict(x):\n",
    "    sqlcontext = pyspark.sql.SQLContext(sc, spark)\n",
    "    df = sqlcontext.createDataFrame(x)\n",
    "    prediction = pred.predict(df)\n",
    "    prediction.show()"
   ]
  },
  {
   "cell_type": "code",
   "execution_count": null,
   "metadata": {},
   "outputs": [],
   "source": [
    "#authenticate\n",
    "config = ConfigParser()\n",
    "config.read('../.config/.credentials')\n",
    "region = config.get('aws', 'region')\n",
    "AWS_ACCESS_KEY_ID = config.get('aws', 'AWS_ACCESS_KEY_ID')\n",
    "AWS_SECRET_ACCESS_KEY = config.get('aws', 'AWS_SECRET_ACCESS_KEY')\n",
    "os.environ['AWS_ACCESS_KEY_ID'] = AWS_ACCESS_KEY_ID\n",
    "os.environ['AWS_SECRET_ACCESS_KEY'] = AWS_SECRET_ACCESS_KEY"
   ]
  },
  {
   "cell_type": "code",
   "execution_count": null,
   "metadata": {},
   "outputs": [],
   "source": [
    "#setting up environment\n",
    "PERIOD=10\n",
    "BROKERS='localhost:9092'\n",
    "TOPIC= 'twitterstream'\n",
    "duration=100\n",
    "conf = SparkConf().set(\"spark.default.paralleism\", 1)\n",
    "spark = pyspark.sql.SparkSession.builder \\\n",
    "            .master(\"local[4]\") \\\n",
    "            .appName('Streamer') \\\n",
    "            .config(conf=conf) \\\n",
    "            .getOrCreate()\n",
    "sc = spark.sparkContext\n",
    "#create a streaming context with batch interval 10 sec\n",
    "ssc = StreamingContext(sc, PERIOD)"
   ]
  },
  {
   "cell_type": "code",
   "execution_count": null,
   "metadata": {
    "collapsed": true
   },
   "outputs": [],
   "source": [
    "#create stream receivers\n",
    "stream = KafkaUtils.createDirectStream(\n",
    "      ssc,\n",
    "      [TOPIC],\n",
    "      {\n",
    "        \"metadata.broker.list\": BROKERS,\n",
    "      }\n",
    ")\n",
    "tweets = stream.map(lambda x: json.loads(x[1])).map(lambda x: json.loads(x))\n",
    "    \n",
    "text = tweets.map(lambda x: {'_id': x['id'], 'text': x['text']})"
   ]
  },
  {
   "cell_type": "code",
   "execution_count": null,
   "metadata": {},
   "outputs": [],
   "source": [
    "#initialize predictor\n",
    "pred = myStreamPredictor()\n",
    "#initialize mongodb\n",
    "client = MongoClient()\n",
    "collection = client.streams.tweets\n",
    "collection.drop()"
   ]
  },
  {
   "cell_type": "code",
   "execution_count": null,
   "metadata": {},
   "outputs": [],
   "source": [
    "tweets.count().pprint()\n",
    "tweets.foreachRDD(lambda x: print('Collection Count is {}'.format(collection.count())))\n",
    "text.foreachRDD(lambda x: predict(x))\n",
    "tweets.foreachRDD(lambda x: x.saveToMongoDB('mongodb://localhost:27017/streams.tweets'))\n"
   ]
  },
  {
   "cell_type": "code",
   "execution_count": null,
   "metadata": {},
   "outputs": [],
   "source": [
    "ssc.start()\n",
    "ssc.awaitTermination()"
   ]
  }
 ],
 "metadata": {
  "kernelspec": {
   "display_name": "Python 3",
   "language": "python",
   "name": "python3"
  },
  "language_info": {
   "codemirror_mode": {
    "name": "ipython",
    "version": 3
   },
   "file_extension": ".py",
   "mimetype": "text/x-python",
   "name": "python",
   "nbconvert_exporter": "python",
   "pygments_lexer": "ipython3",
   "version": "3.5.4"
  }
 },
 "nbformat": 4,
 "nbformat_minor": 2
}
