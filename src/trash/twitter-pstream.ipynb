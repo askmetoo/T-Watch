{
 "cells": [
  {
   "cell_type": "code",
   "execution_count": 1,
   "metadata": {
    "collapsed": true
   },
   "outputs": [],
   "source": [
    "import json\n",
    "import sys, os, re, ast\n",
    "import findspark\n",
    "# Add the streaming package and initialize\n",
    "findspark.add_packages([\"org.apache.spark:spark-streaming-kafka-0-8_2.11:2.2.0\"])\n",
    "findspark.init()\n",
    "import pyspark\n",
    "import pyspark.streaming\n",
    "from pyspark import SparkConf, SparkContext\n",
    "from pyspark.streaming import StreamingContext\n",
    "from pyspark.streaming.kafka import KafkaUtils, OffsetRange, TopicAndPartition\n",
    "\n",
    "def txt_to_feature(text):\n",
    "    words = re.sub(\"[^a-zA-Z]\", \" \", text).lower().split()\n",
    "    clean_words = [ps.stem(w) for w in words if not w in stops]\n",
    "    return( \" \".join(clean_words))"
   ]
  },
  {
   "cell_type": "code",
   "execution_count": null,
   "metadata": {
    "collapsed": true
   },
   "outputs": [],
   "source": [
    "def main():\n",
    "    PERIOD=10\n",
    "    BROKERS='localhost:9092'\n",
    "    TOPIC= 'twitterstream'\n",
    "    duration=100\n",
    "    conf = SparkConf().set(\"spark.default.paralleism\", 1)\n",
    "    sc = SparkContext(appName='Streamer', conf=conf)\n",
    "    #create a streaming context with batch interval 10 sec\n",
    "    ssc = StreamingContext(sc, PERIOD)\n",
    "    #ssc.checkpoint(\"checkpoint\")\n",
    "    stream = KafkaUtils.createDirectStream(\n",
    "      ssc,\n",
    "      [TOPIC],\n",
    "      {\n",
    "        \"metadata.broker.list\": BROKERS,\n",
    "      }\n",
    "    )\n",
    "    #stream = KafkaUtils.createStream(ssc, 'cdh57-01-node-01.moffatt.me:2181', 'spark-streaming', {TOPIC:1})\n",
    "\n",
    "    # parsed = stream.map(lambda v: json.loads(v[1]))\n",
    "    tweets = stream.map(lambda x: json.loads(x[1])).map(lambda x: json.loads(x))\n",
    "    \n",
    "    print (\"Streaming ...\")\n",
    "\n",
    "    count_stream = stream.map(txt_to_feature) \\\n",
    "                         .map(lambda string: len(str))\n",
    "\n",
    "    output.pprint()\n",
    "    ssc.start()\n",
    "    ssc.awaitTermination()\n",
    "\n",
    "\n",
    "\n",
    "if __name__ == '__main__':\n",
    "    main()"
   ]
  }
 ],
 "metadata": {
  "kernelspec": {
   "display_name": "Python 3",
   "language": "python",
   "name": "python3"
  },
  "language_info": {
   "codemirror_mode": {
    "name": "ipython",
    "version": 3
   },
   "file_extension": ".py",
   "mimetype": "text/x-python",
   "name": "python",
   "nbconvert_exporter": "python",
   "pygments_lexer": "ipython3",
   "version": "3.5.4"
  }
 },
 "nbformat": 4,
 "nbformat_minor": 2
}
